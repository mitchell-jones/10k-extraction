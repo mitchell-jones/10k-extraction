{
 "cells": [
  {
   "cell_type": "code",
   "execution_count": 4,
   "id": "46a84267",
   "metadata": {},
   "outputs": [],
   "source": [
    "import pandas as pd\n",
    "import os"
   ]
  },
  {
   "cell_type": "code",
   "execution_count": 5,
   "id": "b574a3f4",
   "metadata": {},
   "outputs": [],
   "source": [
    "os.chdir(r'C:\\Users\\Mitchell Gaming PC\\OneDrive - Visual Risk IQ, LLC\\School Files\\Fall 2022\\Advanced Business Analytics (TA)\\10-K Extraction')"
   ]
  },
  {
   "cell_type": "code",
   "execution_count": 7,
   "id": "b594d8c2",
   "metadata": {},
   "outputs": [],
   "source": [
    "file = 'testout.csv'"
   ]
  },
  {
   "cell_type": "code",
   "execution_count": 8,
   "id": "449b26dc",
   "metadata": {},
   "outputs": [],
   "source": [
    "df = pd.read_csv(file)"
   ]
  },
  {
   "cell_type": "code",
   "execution_count": 9,
   "id": "c4346975",
   "metadata": {},
   "outputs": [
    {
     "data": {
      "text/plain": [
       "False    4731\n",
       "True      959\n",
       "Name: section_list, dtype: int64"
      ]
     },
     "execution_count": 9,
     "metadata": {},
     "output_type": "execute_result"
    }
   ],
   "source": [
    "df['section_list'].isna().value_counts()"
   ]
  },
  {
   "cell_type": "code",
   "execution_count": 10,
   "id": "78166191",
   "metadata": {},
   "outputs": [
    {
     "data": {
      "text/plain": [
       "0.16854130052724078"
      ]
     },
     "execution_count": 10,
     "metadata": {},
     "output_type": "execute_result"
    }
   ],
   "source": [
    "sum(df.section_list.isna())/len(df.section_list)"
   ]
  },
  {
   "cell_type": "code",
   "execution_count": 11,
   "id": "b02cb836",
   "metadata": {},
   "outputs": [
    {
     "data": {
      "text/plain": [
       "nan"
      ]
     },
     "execution_count": 11,
     "metadata": {},
     "output_type": "execute_result"
    }
   ],
   "source": [
    "df.section_list.values[7]"
   ]
  },
  {
   "cell_type": "code",
   "execution_count": 28,
   "id": "a8b5d0e4",
   "metadata": {},
   "outputs": [
    {
     "data": {
      "text/plain": [
       "'20210119_10-K-A_edgar_data_1054102_0001493152-21-001330.txt'"
      ]
     },
     "execution_count": 28,
     "metadata": {},
     "output_type": "execute_result"
    }
   ],
   "source": [
    "df[df.section_list.isna()].reset_index().iloc[7,:]['filename']"
   ]
  },
  {
   "cell_type": "code",
   "execution_count": null,
   "id": "9ae7c749",
   "metadata": {},
   "outputs": [],
   "source": []
  }
 ],
 "metadata": {
  "kernelspec": {
   "display_name": "Python 3 (ipykernel)",
   "language": "python",
   "name": "python3"
  },
  "language_info": {
   "codemirror_mode": {
    "name": "ipython",
    "version": 3
   },
   "file_extension": ".py",
   "mimetype": "text/x-python",
   "name": "python",
   "nbconvert_exporter": "python",
   "pygments_lexer": "ipython3",
   "version": "3.9.7"
  }
 },
 "nbformat": 4,
 "nbformat_minor": 5
}
