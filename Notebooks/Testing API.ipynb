{
 "cells": [
  {
   "cell_type": "code",
   "execution_count": 3,
   "id": "064ceb49",
   "metadata": {},
   "outputs": [],
   "source": [
    "from sec_api import ExtractorApi"
   ]
  },
  {
   "cell_type": "code",
   "execution_count": 7,
   "id": "0b8f5b20",
   "metadata": {},
   "outputs": [],
   "source": [
    "extractorApi = ExtractorApi(\"016384f2ac9b775d5bf3ea9a63cca176e5017fe2fbbe6df081edd67996ef52d3\")\n",
    "\n",
    "# 20210104_10-K_edgar_data_1041588_0001041588-21-000001\n",
    "filing_url = \"https://www.sec.gov/Archives/edgar/data/1041588/000104158821000001/0001041588-21-000001.txt\"\n",
    "\n",
    "# get the standardized and cleaned text of section 1A \"Risk Factors\"\n",
    "section_text = extractorApi.get_section(filing_url, \"1A\", \"text\")"
   ]
  },
  {
   "cell_type": "code",
   "execution_count": 8,
   "id": "1e7eff31",
   "metadata": {},
   "outputs": [
    {
     "data": {
      "text/plain": [
       "'ITEM 1a. RISK FACTORS ACCR DOES NOT BELIEVE IN PROMOTION - PERIOD! Access-Power & Co., Inc. sees RISK EVERYWHERE in this World of Worry! We have a consumer model that is 100percent legal and we believe our Clones by Car business will be incredible. THERE IS NO DILUTION IN OUR COMMON STOCK in 2021. ACCR may have to re-classify ourselves, in future quarters, as a SHELL COMPANY. We are in control of the treasury of ACCR. We will guard this treasury with our life, as we believe that NO DILUTION will be very beneficial to our Shareholders over the long term. There are no convertible debentures associated with ACCR. ACCR has zero long term debt. We have a strong set of bylaws. Risk by our Director is mitigated. '"
      ]
     },
     "execution_count": 8,
     "metadata": {},
     "output_type": "execute_result"
    }
   ],
   "source": [
    "section_text"
   ]
  },
  {
   "cell_type": "code",
   "execution_count": 9,
   "id": "08b8670f",
   "metadata": {},
   "outputs": [],
   "source": [
    "# file 20210104_10-K_edgar_data_1604930_0001493152-21-000080\n",
    "# https://www.sec.gov/Archives/edgar/data/1604930/000149315221000080/0001493152-21-000080.txt\n",
    "\n",
    "\n",
    "# 20210104_10-K_edgar_data_1041588_0001041588-21-000001\n",
    "filing_url = \"https://www.sec.gov/Archives/edgar/data/1604930/000149315221000080/0001493152-21-000080.txt\"\n",
    "\n",
    "# get the standardized and cleaned text of section 1A \"Risk Factors\"\n",
    "section_text_second = extractorApi.get_section(filing_url, \"1A\", \"text\")\n"
   ]
  },
  {
   "cell_type": "code",
   "execution_count": 10,
   "id": "b0874ad7",
   "metadata": {},
   "outputs": [
    {
     "data": {
      "text/plain": [
       "' ITEM 1A. RISK FACTORS \\n\\n&#160; \\n\\nNot required for a Smaller Reporting Company. \\n\\n&#160; \\n\\n'"
      ]
     },
     "execution_count": 10,
     "metadata": {},
     "output_type": "execute_result"
    }
   ],
   "source": [
    "section_text_second"
   ]
  },
  {
   "cell_type": "code",
   "execution_count": null,
   "id": "17c6bc35",
   "metadata": {},
   "outputs": [],
   "source": [
    "https://www.sec.gov/ix?doc=/Archives/edgar/data/1350420/000135042021000022/lwenergy-20210930.htm"
   ]
  }
 ],
 "metadata": {
  "kernelspec": {
   "display_name": "Python 3",
   "language": "python",
   "name": "python3"
  },
  "language_info": {
   "codemirror_mode": {
    "name": "ipython",
    "version": 3
   },
   "file_extension": ".py",
   "mimetype": "text/x-python",
   "name": "python",
   "nbconvert_exporter": "python",
   "pygments_lexer": "ipython3",
   "version": "3.8.8"
  }
 },
 "nbformat": 4,
 "nbformat_minor": 5
}
